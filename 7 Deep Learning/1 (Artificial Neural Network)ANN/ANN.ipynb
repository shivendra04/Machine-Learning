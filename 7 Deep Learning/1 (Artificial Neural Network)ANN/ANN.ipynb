{
 "cells": [
  {
   "cell_type": "code",
   "execution_count": 1,
   "metadata": {},
   "outputs": [],
   "source": [
    "#Importing libraries"
   ]
  },
  {
   "cell_type": "code",
   "execution_count": null,
   "metadata": {},
   "outputs": [],
   "source": [
    "#pip install tensorflow"
   ]
  },
  {
   "cell_type": "code",
   "execution_count": 10,
   "metadata": {},
   "outputs": [],
   "source": [
    "import pandas as pd\n",
    "import numpy as np\n",
    "import tensorflow as tf"
   ]
  },
  {
   "cell_type": "code",
   "execution_count": 11,
   "metadata": {},
   "outputs": [
    {
     "data": {
      "text/plain": [
       "'2.1.0'"
      ]
     },
     "execution_count": 11,
     "metadata": {},
     "output_type": "execute_result"
    }
   ],
   "source": [
    "tf.__version__"
   ]
  },
  {
   "cell_type": "code",
   "execution_count": 12,
   "metadata": {},
   "outputs": [],
   "source": [
    "#Part-1 Data preprocessing"
   ]
  },
  {
   "cell_type": "code",
   "execution_count": 13,
   "metadata": {},
   "outputs": [],
   "source": [
    "#Importing the dataset"
   ]
  },
  {
   "cell_type": "code",
   "execution_count": 14,
   "metadata": {},
   "outputs": [],
   "source": [
    "dataset=pd.read_csv('C:\\\\Users\\\\BizAct-110\\\\OneDrive\\\\ML_Practice\\\\7 Deep Learning\\\\1 (Artificial Neural Network)ANN\\\\Churn_Modelling.csv')\n",
    "X=dataset.iloc[:,3:-1].values\n",
    "y=dataset.iloc[:,-1].values"
   ]
  },
  {
   "cell_type": "code",
   "execution_count": 15,
   "metadata": {},
   "outputs": [],
   "source": [
    "#Label encoding the gender column"
   ]
  },
  {
   "cell_type": "code",
   "execution_count": 16,
   "metadata": {},
   "outputs": [],
   "source": [
    "from sklearn.preprocessing import LabelEncoder\n",
    "le=LabelEncoder()\n",
    "X[:, 2]=le.fit_transform(X[:, 2])"
   ]
  },
  {
   "cell_type": "code",
   "execution_count": 17,
   "metadata": {},
   "outputs": [],
   "source": [
    "#One hotEncoding Geography column"
   ]
  },
  {
   "cell_type": "code",
   "execution_count": 18,
   "metadata": {},
   "outputs": [],
   "source": [
    "from sklearn.compose import ColumnTransformer\n",
    "from sklearn.preprocessing import OneHotEncoder\n",
    "ct=ColumnTransformer(transformers=[('encoder',OneHotEncoder(),[1])],remainder='passthrough')\n",
    "X=np.array(ct.fit_transform(X))"
   ]
  },
  {
   "cell_type": "code",
   "execution_count": 19,
   "metadata": {},
   "outputs": [],
   "source": [
    "#Splitting dataset into training set and test set"
   ]
  },
  {
   "cell_type": "code",
   "execution_count": 20,
   "metadata": {},
   "outputs": [],
   "source": [
    "from sklearn.model_selection import train_test_split\n",
    "X_train,X_test,y_train,y_test=train_test_split(X,y,test_size=0.2,random_state=0)"
   ]
  },
  {
   "cell_type": "code",
   "execution_count": 21,
   "metadata": {},
   "outputs": [],
   "source": [
    "#Feature Scaling(compulsary)== it if for all teh features in DL"
   ]
  },
  {
   "cell_type": "code",
   "execution_count": 22,
   "metadata": {},
   "outputs": [],
   "source": [
    "from sklearn.preprocessing import StandardScaler\n",
    "sc=StandardScaler()\n",
    "X_train=sc.fit_transform(X_train)\n",
    "X_test=sc.fit_transform(X_test)"
   ]
  },
  {
   "cell_type": "code",
   "execution_count": 23,
   "metadata": {},
   "outputs": [],
   "source": [
    "#Part-2 Building the ANN"
   ]
  },
  {
   "cell_type": "code",
   "execution_count": 24,
   "metadata": {},
   "outputs": [],
   "source": [
    "ann=tf.keras.models.Sequential()# Sequential is used to initialize the Deep Learning model as a sequence of layers"
   ]
  },
  {
   "cell_type": "code",
   "execution_count": 25,
   "metadata": {},
   "outputs": [],
   "source": [
    "#Ading the input layer and first hidden layer"
   ]
  },
  {
   "cell_type": "code",
   "execution_count": 26,
   "metadata": {},
   "outputs": [],
   "source": [
    "ann.add(tf.keras.layers.Dense(units=6,activation='relu'))#Dense is used to add one layer of neurons in the neural network."
   ]
  },
  {
   "cell_type": "code",
   "execution_count": 27,
   "metadata": {},
   "outputs": [],
   "source": [
    "#Add the second hidden laye"
   ]
  },
  {
   "cell_type": "code",
   "execution_count": 28,
   "metadata": {},
   "outputs": [],
   "source": [
    "ann.add(tf.keras.layers.Dense(units=6,activation='relu'))\n",
    "#Units are the number of neurons contained in each layer."
   ]
  },
  {
   "cell_type": "code",
   "execution_count": 29,
   "metadata": {},
   "outputs": [],
   "source": [
    "#Add the output layer"
   ]
  },
  {
   "cell_type": "code",
   "execution_count": 30,
   "metadata": {},
   "outputs": [],
   "source": [
    "ann.add(tf.keras.layers.Dense(units=1,activation='sigmoid'))"
   ]
  },
  {
   "cell_type": "code",
   "execution_count": 31,
   "metadata": {},
   "outputs": [],
   "source": [
    "#Part 3 Training the ANN"
   ]
  },
  {
   "cell_type": "code",
   "execution_count": 32,
   "metadata": {},
   "outputs": [],
   "source": [
    "#compiling the ANN"
   ]
  },
  {
   "cell_type": "code",
   "execution_count": 33,
   "metadata": {},
   "outputs": [],
   "source": [
    "ann.compile(optimizer='adam',loss='binary_crossentropy',metrics=['accuracy'])\n",
    "#Adam optimization is a stochastic gradient descent method that is based on adaptive estimation of first-order\n",
    "#and second-order moments.\n",
    "\n",
    "#The Loss Function is one of the important components of Neural Networks. Loss is nothing but a prediction error of Neural \n",
    "#Net. And the method to calculate the loss is called Loss Function. In simple words,\n",
    "#the Loss is used to calculate the gradients. And gradients are used to update the weights of the Neural Net"
   ]
  },
  {
   "cell_type": "code",
   "execution_count": 34,
   "metadata": {},
   "outputs": [],
   "source": [
    "#training the ANN on training set"
   ]
  },
  {
   "cell_type": "code",
   "execution_count": 36,
   "metadata": {},
   "outputs": [
    {
     "name": "stdout",
     "output_type": "stream",
     "text": [
      "Train on 8000 samples\n",
      "Epoch 1/100\n",
      "8000/8000 [==============================] - 0s 57us/sample - loss: 0.3309 - accuracy: 0.8669\n",
      "Epoch 2/100\n",
      "8000/8000 [==============================] - 0s 56us/sample - loss: 0.3308 - accuracy: 0.8674\n",
      "Epoch 3/100\n",
      "8000/8000 [==============================] - 0s 59us/sample - loss: 0.3308 - accuracy: 0.8662\n",
      "Epoch 4/100\n",
      "8000/8000 [==============================] - 0s 57us/sample - loss: 0.3309 - accuracy: 0.8673\n",
      "Epoch 5/100\n",
      "8000/8000 [==============================] - 0s 57us/sample - loss: 0.3308 - accuracy: 0.8671\n",
      "Epoch 6/100\n",
      "8000/8000 [==============================] - 0s 56us/sample - loss: 0.3308 - accuracy: 0.8676\n",
      "Epoch 7/100\n",
      "8000/8000 [==============================] - 0s 56us/sample - loss: 0.3302 - accuracy: 0.8664\n",
      "Epoch 8/100\n",
      "8000/8000 [==============================] - 0s 60us/sample - loss: 0.3304 - accuracy: 0.8680\n",
      "Epoch 9/100\n",
      "8000/8000 [==============================] - 0s 59us/sample - loss: 0.3302 - accuracy: 0.8661\n",
      "Epoch 10/100\n",
      "8000/8000 [==============================] - 0s 56us/sample - loss: 0.3304 - accuracy: 0.8670\n",
      "Epoch 11/100\n",
      "8000/8000 [==============================] - 0s 56us/sample - loss: 0.3303 - accuracy: 0.8679\n",
      "Epoch 12/100\n",
      "8000/8000 [==============================] - 0s 56us/sample - loss: 0.3303 - accuracy: 0.8658\n",
      "Epoch 13/100\n",
      "8000/8000 [==============================] - 0s 57us/sample - loss: 0.3298 - accuracy: 0.8662\n",
      "Epoch 14/100\n",
      "8000/8000 [==============================] - 0s 57us/sample - loss: 0.3299 - accuracy: 0.8686\n",
      "Epoch 15/100\n",
      "8000/8000 [==============================] - 0s 56us/sample - loss: 0.3299 - accuracy: 0.8669\n",
      "Epoch 16/100\n",
      "8000/8000 [==============================] - 0s 57us/sample - loss: 0.3302 - accuracy: 0.8680\n",
      "Epoch 17/100\n",
      "8000/8000 [==============================] - 0s 56us/sample - loss: 0.3296 - accuracy: 0.8673\n",
      "Epoch 18/100\n",
      "8000/8000 [==============================] - 0s 57us/sample - loss: 0.3297 - accuracy: 0.8664\n",
      "Epoch 19/100\n",
      "8000/8000 [==============================] - 0s 58us/sample - loss: 0.3293 - accuracy: 0.8661\n",
      "Epoch 20/100\n",
      "8000/8000 [==============================] - 0s 57us/sample - loss: 0.3298 - accuracy: 0.8676\n",
      "Epoch 21/100\n",
      "8000/8000 [==============================] - 0s 56us/sample - loss: 0.3295 - accuracy: 0.8666\n",
      "Epoch 22/100\n",
      "8000/8000 [==============================] - 0s 57us/sample - loss: 0.3297 - accuracy: 0.8675\n",
      "Epoch 23/100\n",
      "8000/8000 [==============================] - 0s 56us/sample - loss: 0.3292 - accuracy: 0.8671\n",
      "Epoch 24/100\n",
      "8000/8000 [==============================] - 0s 57us/sample - loss: 0.3297 - accuracy: 0.8669\n",
      "Epoch 25/100\n",
      "8000/8000 [==============================] - 0s 57us/sample - loss: 0.3290 - accuracy: 0.8679\n",
      "Epoch 26/100\n",
      "8000/8000 [==============================] - 0s 57us/sample - loss: 0.3296 - accuracy: 0.8666\n",
      "Epoch 27/100\n",
      "8000/8000 [==============================] - 0s 58us/sample - loss: 0.3294 - accuracy: 0.8669\n",
      "Epoch 28/100\n",
      "8000/8000 [==============================] - 0s 58us/sample - loss: 0.3295 - accuracy: 0.8665\n",
      "Epoch 29/100\n",
      "8000/8000 [==============================] - 0s 58us/sample - loss: 0.3298 - accuracy: 0.8664\n",
      "Epoch 30/100\n",
      "8000/8000 [==============================] - 0s 57us/sample - loss: 0.3291 - accuracy: 0.8671\n",
      "Epoch 31/100\n",
      "8000/8000 [==============================] - 0s 57us/sample - loss: 0.3293 - accuracy: 0.8666\n",
      "Epoch 32/100\n",
      "8000/8000 [==============================] - 0s 57us/sample - loss: 0.3296 - accuracy: 0.8664\n",
      "Epoch 33/100\n",
      "8000/8000 [==============================] - 0s 61us/sample - loss: 0.3292 - accuracy: 0.8661\n",
      "Epoch 34/100\n",
      "8000/8000 [==============================] - 1s 67us/sample - loss: 0.3292 - accuracy: 0.8665\n",
      "Epoch 35/100\n",
      "8000/8000 [==============================] - 1s 68us/sample - loss: 0.3295 - accuracy: 0.8671\n",
      "Epoch 36/100\n",
      "8000/8000 [==============================] - 0s 62us/sample - loss: 0.3292 - accuracy: 0.8684\n",
      "Epoch 37/100\n",
      "8000/8000 [==============================] - 1s 81us/sample - loss: 0.3294 - accuracy: 0.8679\n",
      "Epoch 38/100\n",
      "8000/8000 [==============================] - 0s 60us/sample - loss: 0.3288 - accuracy: 0.8671\n",
      "Epoch 39/100\n",
      "8000/8000 [==============================] - 1s 68us/sample - loss: 0.3289 - accuracy: 0.8670\n",
      "Epoch 40/100\n",
      "8000/8000 [==============================] - 0s 62us/sample - loss: 0.3289 - accuracy: 0.8669\n",
      "Epoch 41/100\n",
      "8000/8000 [==============================] - 1s 71us/sample - loss: 0.3289 - accuracy: 0.8664\n",
      "Epoch 42/100\n",
      "8000/8000 [==============================] - 1s 69us/sample - loss: 0.3289 - accuracy: 0.8669\n",
      "Epoch 43/100\n",
      "8000/8000 [==============================] - 1s 79us/sample - loss: 0.3290 - accuracy: 0.8668\n",
      "Epoch 44/100\n",
      "8000/8000 [==============================] - 0s 57us/sample - loss: 0.3292 - accuracy: 0.8677\n",
      "Epoch 45/100\n",
      "8000/8000 [==============================] - 0s 56us/sample - loss: 0.3290 - accuracy: 0.8673\n",
      "Epoch 46/100\n",
      "8000/8000 [==============================] - 0s 60us/sample - loss: 0.3290 - accuracy: 0.8660\n",
      "Epoch 47/100\n",
      "8000/8000 [==============================] - 1s 63us/sample - loss: 0.3290 - accuracy: 0.8668\n",
      "Epoch 48/100\n",
      "8000/8000 [==============================] - 0s 58us/sample - loss: 0.3291 - accuracy: 0.8664\n",
      "Epoch 49/100\n",
      "8000/8000 [==============================] - 1s 67us/sample - loss: 0.3287 - accuracy: 0.8674\n",
      "Epoch 50/100\n",
      "8000/8000 [==============================] - 0s 57us/sample - loss: 0.3289 - accuracy: 0.8673\n",
      "Epoch 51/100\n",
      "8000/8000 [==============================] - 1s 73us/sample - loss: 0.3290 - accuracy: 0.8671\n",
      "Epoch 52/100\n",
      "8000/8000 [==============================] - 1s 70us/sample - loss: 0.3287 - accuracy: 0.8679\n",
      "Epoch 53/100\n",
      "8000/8000 [==============================] - 1s 76us/sample - loss: 0.3287 - accuracy: 0.8675\n",
      "Epoch 54/100\n",
      "8000/8000 [==============================] - 0s 61us/sample - loss: 0.3290 - accuracy: 0.8677\n",
      "Epoch 55/100\n",
      "8000/8000 [==============================] - 0s 55us/sample - loss: 0.3289 - accuracy: 0.8679\n",
      "Epoch 56/100\n",
      "8000/8000 [==============================] - 0s 51us/sample - loss: 0.3287 - accuracy: 0.8679\n",
      "Epoch 57/100\n",
      "8000/8000 [==============================] - 0s 53us/sample - loss: 0.3286 - accuracy: 0.8668\n",
      "Epoch 58/100\n",
      "8000/8000 [==============================] - 0s 54us/sample - loss: 0.3285 - accuracy: 0.8674\n",
      "Epoch 59/100\n",
      "8000/8000 [==============================] - ETA: 0s - loss: 0.3297 - accuracy: 0.86 - 0s 54us/sample - loss: 0.3288 - accuracy: 0.8665\n",
      "Epoch 60/100\n",
      "8000/8000 [==============================] - 1s 70us/sample - loss: 0.3291 - accuracy: 0.8679\n",
      "Epoch 61/100\n",
      "8000/8000 [==============================] - 1s 84us/sample - loss: 0.3287 - accuracy: 0.8676\n",
      "Epoch 62/100\n",
      "8000/8000 [==============================] - 1s 68us/sample - loss: 0.3284 - accuracy: 0.8687\n",
      "Epoch 63/100\n",
      "8000/8000 [==============================] - 1s 71us/sample - loss: 0.3287 - accuracy: 0.8671\n",
      "Epoch 64/100\n",
      "8000/8000 [==============================] - 0s 58us/sample - loss: 0.3287 - accuracy: 0.8673\n",
      "Epoch 65/100\n",
      "8000/8000 [==============================] - 0s 58us/sample - loss: 0.3280 - accuracy: 0.8698\n",
      "Epoch 66/100\n",
      "8000/8000 [==============================] - 0s 59us/sample - loss: 0.3287 - accuracy: 0.8664\n",
      "Epoch 67/100\n",
      "8000/8000 [==============================] - 1s 69us/sample - loss: 0.3287 - accuracy: 0.8684\n",
      "Epoch 68/100\n",
      "8000/8000 [==============================] - 1s 63us/sample - loss: 0.3289 - accuracy: 0.8676\n",
      "Epoch 69/100\n",
      "8000/8000 [==============================] - 1s 96us/sample - loss: 0.3288 - accuracy: 0.8675\n",
      "Epoch 70/100\n",
      "8000/8000 [==============================] - 1s 81us/sample - loss: 0.3285 - accuracy: 0.8674\n",
      "Epoch 71/100\n",
      "8000/8000 [==============================] - 1s 68us/sample - loss: 0.3287 - accuracy: 0.8677\n",
      "Epoch 72/100\n",
      "8000/8000 [==============================] - 1s 73us/sample - loss: 0.3286 - accuracy: 0.8680\n",
      "Epoch 73/100\n",
      "8000/8000 [==============================] - 1s 94us/sample - loss: 0.3282 - accuracy: 0.8671\n",
      "Epoch 74/100\n",
      "8000/8000 [==============================] - 1s 71us/sample - loss: 0.3286 - accuracy: 0.8673\n",
      "Epoch 75/100\n",
      "8000/8000 [==============================] - 1s 68us/sample - loss: 0.3288 - accuracy: 0.8670\n",
      "Epoch 76/100\n",
      "8000/8000 [==============================] - 0s 58us/sample - loss: 0.3288 - accuracy: 0.8666\n",
      "Epoch 77/100\n"
     ]
    },
    {
     "name": "stdout",
     "output_type": "stream",
     "text": [
      "8000/8000 [==============================] - 0s 60us/sample - loss: 0.3285 - accuracy: 0.8673\n",
      "Epoch 78/100\n",
      "8000/8000 [==============================] - 0s 58us/sample - loss: 0.3287 - accuracy: 0.8684\n",
      "Epoch 79/100\n",
      "8000/8000 [==============================] - 0s 58us/sample - loss: 0.3282 - accuracy: 0.8673\n",
      "Epoch 80/100\n",
      "8000/8000 [==============================] - 1s 67us/sample - loss: 0.3289 - accuracy: 0.8661\n",
      "Epoch 81/100\n",
      "8000/8000 [==============================] - 0s 59us/sample - loss: 0.3285 - accuracy: 0.8683\n",
      "Epoch 82/100\n",
      "8000/8000 [==============================] - 1s 82us/sample - loss: 0.3285 - accuracy: 0.8666\n",
      "Epoch 83/100\n",
      "8000/8000 [==============================] - 1s 103us/sample - loss: 0.3287 - accuracy: 0.8681\n",
      "Epoch 84/100\n",
      "8000/8000 [==============================] - 1s 94us/sample - loss: 0.3285 - accuracy: 0.8662\n",
      "Epoch 85/100\n",
      "8000/8000 [==============================] - 1s 67us/sample - loss: 0.3287 - accuracy: 0.8668\n",
      "Epoch 86/100\n",
      "8000/8000 [==============================] - 0s 56us/sample - loss: 0.3285 - accuracy: 0.8674\n",
      "Epoch 87/100\n",
      "8000/8000 [==============================] - 0s 60us/sample - loss: 0.3284 - accuracy: 0.8670\n",
      "Epoch 88/100\n",
      "8000/8000 [==============================] - 0s 60us/sample - loss: 0.3286 - accuracy: 0.8662\n",
      "Epoch 89/100\n",
      "8000/8000 [==============================] - 1s 71us/sample - loss: 0.3285 - accuracy: 0.8668\n",
      "Epoch 90/100\n",
      "8000/8000 [==============================] - 1s 80us/sample - loss: 0.3285 - accuracy: 0.8671\n",
      "Epoch 91/100\n",
      "8000/8000 [==============================] - 1s 102us/sample - loss: 0.3283 - accuracy: 0.8669\n",
      "Epoch 92/100\n",
      "8000/8000 [==============================] - 1s 118us/sample - loss: 0.3285 - accuracy: 0.8662\n",
      "Epoch 93/100\n",
      "8000/8000 [==============================] - 1s 122us/sample - loss: 0.3280 - accuracy: 0.8681\n",
      "Epoch 94/100\n",
      "8000/8000 [==============================] - 2s 236us/sample - loss: 0.3280 - accuracy: 0.8689\n",
      "Epoch 95/100\n",
      "8000/8000 [==============================] - 1s 145us/sample - loss: 0.3284 - accuracy: 0.8676\n",
      "Epoch 96/100\n",
      "8000/8000 [==============================] - 1s 120us/sample - loss: 0.3282 - accuracy: 0.8675\n",
      "Epoch 97/100\n",
      "8000/8000 [==============================] - 1s 153us/sample - loss: 0.3285 - accuracy: 0.8675\n",
      "Epoch 98/100\n",
      "8000/8000 [==============================] - 1s 150us/sample - loss: 0.3283 - accuracy: 0.8683\n",
      "Epoch 99/100\n",
      "8000/8000 [==============================] - 1s 141us/sample - loss: 0.3286 - accuracy: 0.8666\n",
      "Epoch 100/100\n",
      "8000/8000 [==============================] - 1s 129us/sample - loss: 0.3283 - accuracy: 0.8681\n"
     ]
    },
    {
     "data": {
      "text/plain": [
       "<tensorflow.python.keras.callbacks.History at 0x2171349a048>"
      ]
     },
     "execution_count": 36,
     "metadata": {},
     "output_type": "execute_result"
    }
   ],
   "source": [
    "ann.fit(X_train,y_train,batch_size=32,epochs=100)"
   ]
  },
  {
   "cell_type": "code",
   "execution_count": 37,
   "metadata": {},
   "outputs": [],
   "source": [
    "#predicting the result set of single observation:"
   ]
  },
  {
   "cell_type": "markdown",
   "metadata": {},
   "source": [
    "Geography: france\n",
    "\n",
    "Credit Score:600\n",
    "\n",
    "Gender: Male\n",
    "\n",
    "Age:30 year old\n",
    "\n",
    "Tenure:3 year\n",
    "\n",
    "balance:$60000\n",
    "\n",
    "number of products:2\n",
    "    Does this customer have a credit card?yes\n",
    "\n",
    "Is this customer an active member?yes\n",
    "\n",
    "Estimated salary:$50000\n",
    "\n",
    "Should we say goodby to that cusomter?"
   ]
  },
  {
   "cell_type": "code",
   "execution_count": 38,
   "metadata": {},
   "outputs": [
    {
     "name": "stdout",
     "output_type": "stream",
     "text": [
      "[[False]]\n"
     ]
    }
   ],
   "source": [
    "print(ann.predict(sc.transform([[1,0,0,600,1,40,3,60000,2,1,1,50000]]))>0.5)"
   ]
  },
  {
   "cell_type": "code",
   "execution_count": 39,
   "metadata": {},
   "outputs": [],
   "source": [
    "#Predicting the test set result"
   ]
  },
  {
   "cell_type": "code",
   "execution_count": 43,
   "metadata": {},
   "outputs": [
    {
     "name": "stdout",
     "output_type": "stream",
     "text": [
      "[[0 0]\n",
      " [0 1]\n",
      " [0 0]\n",
      " ...\n",
      " [0 0]\n",
      " [0 0]\n",
      " [0 0]]\n"
     ]
    }
   ],
   "source": [
    "y_pred=ann.predict(X_test)\n",
    "y_pred=(y_pred>0.5)\n",
    "print(np.concatenate((y_pred.reshape(len(y_pred),1),y_test.reshape(len(y_test),1)),1))"
   ]
  },
  {
   "cell_type": "code",
   "execution_count": 44,
   "metadata": {},
   "outputs": [],
   "source": [
    "#Making the confusion metric"
   ]
  },
  {
   "cell_type": "code",
   "execution_count": 45,
   "metadata": {},
   "outputs": [
    {
     "name": "stdout",
     "output_type": "stream",
     "text": [
      "[[1527   68]\n",
      " [ 204  201]]\n"
     ]
    },
    {
     "data": {
      "text/plain": [
       "0.864"
      ]
     },
     "execution_count": 45,
     "metadata": {},
     "output_type": "execute_result"
    }
   ],
   "source": [
    "from sklearn.metrics import confusion_matrix,accuracy_score\n",
    "cm=confusion_matrix(y_test,y_pred)\n",
    "print(cm)\n",
    "accuracy_score(y_test,y_pred)"
   ]
  },
  {
   "cell_type": "code",
   "execution_count": null,
   "metadata": {},
   "outputs": [],
   "source": []
  }
 ],
 "metadata": {
  "kernelspec": {
   "display_name": "Python 3",
   "language": "python",
   "name": "python3"
  },
  "language_info": {
   "codemirror_mode": {
    "name": "ipython",
    "version": 3
   },
   "file_extension": ".py",
   "mimetype": "text/x-python",
   "name": "python",
   "nbconvert_exporter": "python",
   "pygments_lexer": "ipython3",
   "version": "3.7.4"
  }
 },
 "nbformat": 4,
 "nbformat_minor": 2
}
